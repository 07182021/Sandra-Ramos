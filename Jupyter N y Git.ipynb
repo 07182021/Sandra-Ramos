{
 "cells": [
  {
   "cell_type": "markdown",
   "metadata": {},
   "source": [
    "# Sistemas de Control de Versiones"
   ]
  },
  {
   "cell_type": "markdown",
   "metadata": {},
   "source": [
    "Son herramientas que se utilizan para realizar un seguimiento de los cambios en el código fuente u otras colecciones de archivos o carpetas"
   ]
  },
  {
   "cell_type": "markdown",
   "metadata": {},
   "source": [
    "## GIT"
   ]
  },
  {
   "cell_type": "markdown",
   "metadata": {},
   "source": [
    "_**Carateristicas**_\n",
    "\n",
    "* Codigo abierto \n",
    "* Gratuito\n",
    "* Manejar todo tipo de proyectos desdes pequeños hasta muy grandes\n",
    "* Fácil de aprender \n",
    "* Ocupa poco espacio con un rendimiento increíblemente rápido"
   ]
  },
  {
   "cell_type": "markdown",
   "metadata": {},
   "source": [
    "_**Modelo de datos**_ \n",
    "\n",
    "Git cuenta con un modelo que habilita todas las buenas características del control de versiones, como mantener el historial, dar soporte a las ramas y permitir la colaboración.\n"
   ]
  },
  {
   "cell_type": "markdown",
   "metadata": {},
   "source": [
    "_**Instantáneas**_\n",
    "\n",
    "Git modela el historial de una colección de archivos y carpetas dentro de algún directorio de nivel superior como una serie de instantáneas. Una instantánea _es el árbol de nivel superior que se está rastreando_."
   ]
  },
  {
   "cell_type": "markdown",
   "metadata": {},
   "source": [
    "_Ejemplo:_"
   ]
  },
  {
   "cell_type": "markdown",
   "metadata": {},
   "source": [
    "![alt text](instantaneas.png)"
   ]
  },
  {
   "cell_type": "markdown",
   "metadata": {},
   "source": [
    "_**Historial de modelado: relacionar instantáneas**_\n",
    "\n",
    "En Git, un historial es un gráfico acíclico dirigido (DAG) de instantáneas,todo esto significa que cada instantánea en Git se refiere a un conjunto de \"padres\", las instantáneas que la precedieron. Es un conjunto de padres en lugar de uno, porque una instantánea puede descender de varios padres, por ejemplo, debido a la combinación (fusión) de dos ramas paralelas del desarrollo. Git llama a estas instantáneas \"confirmaciones\". La visualización de un historial de confirmaciones podría verse así:\n"
   ]
  },
  {
   "cell_type": "markdown",
   "metadata": {},
   "source": [
    "![alt text](modelado.png)"
   ]
  },
  {
   "cell_type": "markdown",
   "metadata": {},
   "source": [
    "Las confirmaciones en Git son inmutables, pero esto no significa que los errores no se puedan corregir; es solo que las _ediciones_ del historial de confirmaciones en realidad están creando confirmaciones completamente nuevas, y las referencias se actualizan para señalar las nuevas."
   ]
  },
  {
   "cell_type": "markdown",
   "metadata": {},
   "source": [
    "_**Objetos y direccionamiento de contenido**_\n",
    "\n",
    "En el almacén de datos de Git, todos los objetos se direccionan por contenido mediante su hash SHA-1 . Los blobs, los árboles y las confirmaciones se unifican de esta manera: todos son objetos. "
   ]
  },
  {
   "cell_type": "markdown",
   "metadata": {},
   "source": [
    "**Referencias** | **Repositorios** | **Area de ensayo**\n",
    ":--------: | :-------: | :-------:\n",
    "_Son indicadores de confirmaciones_ | _Son los datos objects y references_ | _Es parte de la interfaz para crear confirmaciones_"
   ]
  },
  {
   "cell_type": "markdown",
   "metadata": {},
   "source": [
    "_**Linea de comandos de Git**_"
   ]
  },
  {
   "cell_type": "markdown",
   "metadata": {},
   "source": [
    "_Basicos_\n",
    "1. git help <command>: obtenga ayuda para un comando git\n",
    "2. git init: crea un nuevo repositorio de git, con datos almacenados en el .gitdirectorio\n",
    "3. git status: te dice lo que está pasando\n",
    "4. git add <filename>: agrega archivos al área de preparación\n",
    "5. git commit: crea una nueva confirmación\n",
    "6. git log: muestra un registro de historial aplanado\n",
    "7. git log --all --graph --decorate: visualiza la historia como un DAG\n",
    "8. git diff <filename>: muestra los cambios realizados en relación con el área de preparación\n",
    "9. git diff <revision> <filename>: muestra diferencias en un archivo entre instantáneas\n",
    "10. git checkout <revision>: actualiza HEAD y la rama actual"
   ]
  },
  {
   "cell_type": "markdown",
   "metadata": {},
   "source": [
    "_**Fuente**_\n",
    "\n",
    "[Version Control (Git)](https://missing.csail.mit.edu/2020/version-control/)"
   ]
  },
  {
   "cell_type": "code",
   "execution_count": null,
   "metadata": {},
   "outputs": [],
   "source": []
  }
 ],
 "metadata": {
  "kernelspec": {
   "display_name": "Python 3",
   "language": "python",
   "name": "python3"
  },
  "language_info": {
   "codemirror_mode": {
    "name": "ipython",
    "version": 3
   },
   "file_extension": ".py",
   "mimetype": "text/x-python",
   "name": "python",
   "nbconvert_exporter": "python",
   "pygments_lexer": "ipython3",
   "version": "3.8.5"
  }
 },
 "nbformat": 4,
 "nbformat_minor": 4
}
